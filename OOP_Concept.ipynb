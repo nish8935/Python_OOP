{
  "nbformat": 4,
  "nbformat_minor": 0,
  "metadata": {
    "colab": {
      "provenance": [],
      "authorship_tag": "ABX9TyOyazT145pNdw173QjQXDj9",
      "include_colab_link": true
    },
    "kernelspec": {
      "name": "python3",
      "display_name": "Python 3"
    },
    "language_info": {
      "name": "python"
    }
  },
  "cells": [
    {
      "cell_type": "markdown",
      "metadata": {
        "id": "view-in-github",
        "colab_type": "text"
      },
      "source": [
        "<a href=\"https://colab.research.google.com/github/nish8935/Python_OOP/blob/master/OOP_Concept.ipynb\" target=\"_parent\"><img src=\"https://colab.research.google.com/assets/colab-badge.svg\" alt=\"Open In Colab\"/></a>"
      ]
    },
    {
      "cell_type": "markdown",
      "source": [
        "#OOP Example using Python\n",
        "## Four pillars of OOP are:\n",
        "### 1. Inheritance\n",
        "### 2. Polymorphism\n",
        "### 3. Encapsulation\n",
        "### 4. Abstraction\n"
      ],
      "metadata": {
        "id": "GKqjqZvqKnJ9"
      }
    },
    {
      "cell_type": "code",
      "source": [
        "# Inheritance\n",
        "\n",
        "#Python code to demostrate Inheritance\n",
        "\n",
        "#Python code to demonstrate how Parent constructor is called\n",
        "\n",
        "#Parent Class\n",
        "\n",
        "class Person(object):\n",
        "\n",
        "  #Constructor\n",
        "  def __init__(self, name, idnumber):\n",
        "    self.name = name\n",
        "    self.idnumber = idnumber\n",
        "\n",
        "  def display(self):\n",
        "    print(self.name)\n",
        "    print(self.idnumber)\n",
        "\n",
        "  def details(self):\n",
        "    print(\"My name is {}\".format(self.name))\n",
        "    print(\"IdNumber: {}\".format(self.idnumber))\n",
        "\n",
        "\n",
        "#Child class\n",
        "class Employee(Person):\n",
        "  def __init__(self, name, idnumber, salary, post):\n",
        "    self.salary = salary\n",
        "    self.post = post\n",
        "\n",
        "    #invoking the __init__ of the parent class\n",
        "    Person.__init__(self, name, idnumber)\n",
        "\n",
        "  def details(self):\n",
        "    print(\"My name is {}\".format(self.name))\n",
        "    print(\"IdNumber: {}\".format(self.idnumber))\n",
        "    print(\"Post: {}\".format(self.post))\n",
        "\n",
        "\n",
        "#creation of an object or an instance\n",
        "a = Employee('Rahul', 886012, 200000, \"Intern\")\n",
        "\n",
        "#calling a function of the class Person using its instance\n",
        "a.display()\n",
        "a.details()"
      ],
      "metadata": {
        "colab": {
          "base_uri": "https://localhost:8080/"
        },
        "id": "-2ADQLHWODXZ",
        "outputId": "783833e6-d465-4a5c-a276-f6542c9df970"
      },
      "execution_count": 2,
      "outputs": [
        {
          "output_type": "stream",
          "name": "stdout",
          "text": [
            "Rahul\n",
            "886012\n",
            "My name is Rahul\n",
            "IdNumber: 886012\n",
            "Post: Intern\n"
          ]
        }
      ]
    },
    {
      "cell_type": "code",
      "source": [
        "# Polymorphism\n",
        "\n",
        "class Bird:\n",
        "  def intro(self):\n",
        "    print(\"There are many types of birds.\")\n",
        "\n",
        "  def flight(self):\n",
        "    print(\"Most of the birds can fly but some cannot.\")\n",
        "\n",
        "class sparrow(Bird):\n",
        "  def flight(self):\n",
        "    print(\"Sparrows can fly.\")\n",
        "\n",
        "class ostrich(Bird):\n",
        "  def flight(self):\n",
        "    print(\"Ostriches cannot fly.\")\n",
        "\n",
        "obj_bird = Bird()\n",
        "obj_spr = sparrow()\n",
        "obj_ost = ostrich()\n",
        "\n",
        "obj_bird.intro()\n",
        "obj_bird.flight()\n",
        "\n",
        "obj_spr.intro()\n",
        "obj_spr.flight()\n",
        "\n",
        "obj_ost.intro()\n",
        "obj_ost.flight()"
      ],
      "metadata": {
        "colab": {
          "base_uri": "https://localhost:8080/"
        },
        "id": "ieAoKCHlO5mC",
        "outputId": "b7306502-fead-4e3e-9c9e-73422bd84124"
      },
      "execution_count": 6,
      "outputs": [
        {
          "output_type": "stream",
          "name": "stdout",
          "text": [
            "There are many types of birds.\n",
            "Most of the birds can fly but some cannot.\n",
            "There are many types of birds.\n",
            "Sparrows can fly.\n",
            "There are many types of birds.\n",
            "Ostriches cannot fly.\n"
          ]
        }
      ]
    },
    {
      "cell_type": "code",
      "source": [],
      "metadata": {
        "id": "4VzEVUPcSZm5"
      },
      "execution_count": null,
      "outputs": []
    },
    {
      "cell_type": "code",
      "source": [],
      "metadata": {
        "id": "w7Fs9RcYSTmf"
      },
      "execution_count": null,
      "outputs": []
    },
    {
      "cell_type": "code",
      "source": [],
      "metadata": {
        "id": "d9wnQE4tSFvA"
      },
      "execution_count": null,
      "outputs": []
    },
    {
      "cell_type": "code",
      "source": [],
      "metadata": {
        "id": "oCUry2jjR7xL"
      },
      "execution_count": null,
      "outputs": []
    }
  ]
}